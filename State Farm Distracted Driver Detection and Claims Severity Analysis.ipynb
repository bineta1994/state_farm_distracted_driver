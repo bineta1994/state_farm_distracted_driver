{
 "cells": [
  {
   "cell_type": "markdown",
   "id": "939d96e5",
   "metadata": {},
   "source": [
    "<h1 style=\"text-align:center\">State Farm Distracted Driver Detection and Claims Severity Analysis</h1>\n"
   ]
  },
  {
   "cell_type": "markdown",
   "id": "4560fcfd",
   "metadata": {},
   "source": [
    "# Introduction\n",
    "\n",
    "Distracted driving is a significant and growing problem on our roads, causing a substantial number of accidents, injuries, and fatalities every year. Insurance companies, like State Farm, play a vital role in processing claims and mitigating the financial impact of these incidents. In order to address this issue, our project focuses on the following **problem statement** and **value addition**:\n",
    "\n",
    "## Problem Statement\n",
    "\n",
    "Analyze the State Farm Claims dataset to explore the various factors that contribute to the severity of claims made, and identify patterns and trends in the data that can help improve the claims process and detect potentially fraudulent claims.\n",
    "\n",
    "## Value Add\n",
    "\n",
    "1. Develop models to predict the severity of claims, leading to a more efficient claims assessment process.\n",
    "2. Identify potentially fraudulent claims, minimizing financial losses for the insurance company.\n",
    "3. Enhance the overall claims process by leveraging data-driven insights, leading to improved customer satisfaction.\n",
    "4. Contribute to a safer driving environment by promoting awareness of the factors contributing to severe claims.\n",
    "\n",
    "In this project, we will explore the State Farm Claims dataset, which consists of both tabular data and images of drivers in various states of distraction. We will preprocess the data, perform exploratory data analysis, and engineer relevant features that can be used in our models. We will then train and evaluate various machine learning models, such as logistic regression, decision trees, and deep learning models, to determine the most effective approach for predicting the severity of claims and identifying potentially fraudulent claims. Finally, we will present our findings, discuss the implications of our analysis, and propose recommendations for improving the claims process and combating fraudulent claims.\n"
   ]
  },
  {
   "cell_type": "markdown",
   "id": "b1c079f2",
   "metadata": {},
   "source": [
    "Let's take a closer look at the data we will be working with."
   ]
  },
  {
   "cell_type": "code",
   "execution_count": 1,
   "id": "19445fd4",
   "metadata": {},
   "outputs": [
    {
     "data": {
      "text/markdown": [
       "**CSV Data Dictionary:**"
      ],
      "text/plain": [
       "<IPython.core.display.Markdown object>"
      ]
     },
     "metadata": {},
     "output_type": "display_data"
    },
    {
     "data": {
      "text/markdown": [
       "\n",
       "| Column Name | Description |\n",
       "| ----------- | ----------- |\n",
       "| subject     | Unique identifier for the driver |\n",
       "| img         | Filename of image corresponding to the driver |\n",
       "| classname       | Class label corresponding to the driver's state of distraction |\n"
      ],
      "text/plain": [
       "<IPython.core.display.Markdown object>"
      ]
     },
     "metadata": {},
     "output_type": "display_data"
    },
    {
     "data": {
      "text/markdown": [
       "**Image Data Dictionary:**"
      ],
      "text/plain": [
       "<IPython.core.display.Markdown object>"
      ]
     },
     "metadata": {},
     "output_type": "display_data"
    },
    {
     "data": {
      "text/markdown": [
       "\n",
       "| Column Name | Description |\n",
       "| ----------- | ----------- |\n",
       "| filename    | Name of the image file |\n",
       "| distracted | Indicator of whether the driver is distracted or not |\n",
       "| features | Extracted features from the image data \n"
      ],
      "text/plain": [
       "<IPython.core.display.Markdown object>"
      ]
     },
     "metadata": {},
     "output_type": "display_data"
    }
   ],
   "source": [
    "from IPython.display import Markdown, display\n",
    "\n",
    "# Data dictionary for CSV data\n",
    "csv_dict = \"\"\"\n",
    "| Column Name | Description |\n",
    "| ----------- | ----------- |\n",
    "| subject     | Unique identifier for the driver |\n",
    "| img         | Filename of image corresponding to the driver |\n",
    "| classname       | Class label corresponding to the driver's state of distraction |\n",
    "\"\"\"\n",
    "\n",
    "# Data dictionary for image data\n",
    "img_dict = \"\"\"\n",
    "| Column Name | Description |\n",
    "| ----------- | ----------- |\n",
    "| filename    | Name of the image file |\n",
    "| distracted | Indicator of whether the driver is distracted or not |\n",
    "| features | Extracted features from the image data \n",
    "\"\"\"\n",
    "\n",
    "display(Markdown(\"**CSV Data Dictionary:**\"))\n",
    "display(Markdown(csv_dict))\n",
    "\n",
    "display(Markdown(\"**Image Data Dictionary:**\"))\n",
    "display(Markdown(img_dict))\n"
   ]
  },
  {
   "cell_type": "markdown",
   "id": "0a488a32",
   "metadata": {},
   "source": [
    "Our analysis is focused on identifying the factors that contribute to the severity of claims made. The dataset consists of tabular data with 3 columns: subject, classname, and severity. The subject column provides the driver ID, while the classname column provides information on the different states of driver distraction. The severity column contains information on the severity of the claim.\n",
    "\n",
    "The data dictionary for the tabular data provides valuable information on the different columns and their types, allowing us to understand the data effectively. With this understanding, we can preprocess and engineer features from the data to train models for predicting the severity of claims and detecting fraudulent claims.\n",
    "\n",
    "In addition to the tabular data, the dataset also includes images of drivers in different states of distraction. The images are categorized by the type of distraction and do not have width, height or channel columns. The data dictionary for the images dataset provides valuable information on the file format and naming convention of the images, which we can use to extract features for our analysis."
   ]
  },
  {
   "cell_type": "code",
   "execution_count": 6,
   "id": "09caafca",
   "metadata": {},
   "outputs": [
    {
     "name": "stdout",
     "output_type": "stream",
     "text": [
      "C:\\Users\\User\\Downloads\n"
     ]
    }
   ],
   "source": [
    "%cd ~/Downloads\n"
   ]
  },
  {
   "cell_type": "code",
   "execution_count": 7,
   "id": "ef7ab2f4",
   "metadata": {},
   "outputs": [
    {
     "name": "stdout",
     "output_type": "stream",
     "text": [
      "Number of rows:  22424\n",
      "Number of columns:  3\n"
     ]
    }
   ],
   "source": [
    "import pandas as pd\n",
    "import zipfile\n",
    "import os\n",
    "\n",
    "# set the file path to the zipped archive\n",
    "zip_path = \"state-farm-distracted-driver-detection.zip\"\n",
    "\n",
    "# set the file path to the CSV file within the zipped archive\n",
    "csv_path = \"driver_imgs_list.csv\"\n",
    "\n",
    "# open the zipped archive\n",
    "with zipfile.ZipFile(zip_path, \"r\") as zip_file:\n",
    "    # read in the CSV file from the zipped archive into a pandas dataframe\n",
    "    csv_df = pd.read_csv(zip_file.open(csv_path))\n",
    "\n",
    "# print the number of rows and columns in the dataframe\n",
    "print(\"Number of rows: \", len(csv_df))\n",
    "print(\"Number of columns: \", len(csv_df.columns))\n"
   ]
  },
  {
   "cell_type": "code",
   "execution_count": null,
   "id": "0b7dec89",
   "metadata": {},
   "outputs": [],
   "source": [
    "After importing our data, let's take a closer look at it and do some cleaning as necessary."
   ]
  },
  {
   "cell_type": "code",
   "execution_count": 8,
   "id": "a113aab5",
   "metadata": {},
   "outputs": [
    {
     "data": {
      "text/html": [
       "<div>\n",
       "<style scoped>\n",
       "    .dataframe tbody tr th:only-of-type {\n",
       "        vertical-align: middle;\n",
       "    }\n",
       "\n",
       "    .dataframe tbody tr th {\n",
       "        vertical-align: top;\n",
       "    }\n",
       "\n",
       "    .dataframe thead th {\n",
       "        text-align: right;\n",
       "    }\n",
       "</style>\n",
       "<table border=\"1\" class=\"dataframe\">\n",
       "  <thead>\n",
       "    <tr style=\"text-align: right;\">\n",
       "      <th></th>\n",
       "      <th>subject</th>\n",
       "      <th>classname</th>\n",
       "      <th>img</th>\n",
       "    </tr>\n",
       "  </thead>\n",
       "  <tbody>\n",
       "    <tr>\n",
       "      <th>0</th>\n",
       "      <td>p002</td>\n",
       "      <td>c0</td>\n",
       "      <td>img_44733.jpg</td>\n",
       "    </tr>\n",
       "    <tr>\n",
       "      <th>1</th>\n",
       "      <td>p002</td>\n",
       "      <td>c0</td>\n",
       "      <td>img_72999.jpg</td>\n",
       "    </tr>\n",
       "    <tr>\n",
       "      <th>2</th>\n",
       "      <td>p002</td>\n",
       "      <td>c0</td>\n",
       "      <td>img_25094.jpg</td>\n",
       "    </tr>\n",
       "    <tr>\n",
       "      <th>3</th>\n",
       "      <td>p002</td>\n",
       "      <td>c0</td>\n",
       "      <td>img_69092.jpg</td>\n",
       "    </tr>\n",
       "    <tr>\n",
       "      <th>4</th>\n",
       "      <td>p002</td>\n",
       "      <td>c0</td>\n",
       "      <td>img_92629.jpg</td>\n",
       "    </tr>\n",
       "  </tbody>\n",
       "</table>\n",
       "</div>"
      ],
      "text/plain": [
       "  subject classname            img\n",
       "0    p002        c0  img_44733.jpg\n",
       "1    p002        c0  img_72999.jpg\n",
       "2    p002        c0  img_25094.jpg\n",
       "3    p002        c0  img_69092.jpg\n",
       "4    p002        c0  img_92629.jpg"
      ]
     },
     "execution_count": 8,
     "metadata": {},
     "output_type": "execute_result"
    }
   ],
   "source": [
    "# display the first 5 rows of the dataframe\n",
    "csv_df.head()"
   ]
  },
  {
   "cell_type": "markdown",
   "id": "c9c12e93",
   "metadata": {},
   "source": [
    "The CSV file contains the classnames which are just characters, and we are not able to infer what they mean. However, State Farm, the provider of the dataset, has provided descriptions for each of the 10 classes that include different activities a driver may engage in while on the road. By using this information, we can create a new column in our dataset that identifies the activity for each image.\n",
    "\n",
    "We can achieve this by using a mapping function that maps each classname to its corresponding activity description. Once we have created the new column, we can use various statistical techniques to explore the relationship between this column and other columns in our dataset, such as the subject column."
   ]
  },
  {
   "cell_type": "code",
   "execution_count": 9,
   "id": "b216c5bf",
   "metadata": {},
   "outputs": [],
   "source": [
    "# Define a dictionary to map class labels to activity descriptions\n",
    "activity_map = {\n",
    "    'c0': 'safe driving',\n",
    "    'c1': 'texting - right',\n",
    "    'c2': 'talking on the phone - right',\n",
    "    'c3': 'texting - left',\n",
    "    'c4': 'talking on the phone - left',\n",
    "    'c5': 'operating the radio',\n",
    "    'c6': 'drinking',\n",
    "    'c7': 'reaching behind',\n",
    "    'c8': 'hair and makeup',\n",
    "    'c9': 'talking to passenger'\n",
    "}\n",
    "\n",
    "# Create a new column called \"activity\" that maps the class labels to activity descriptions\n",
    "csv_df['activity'] = csv_df['classname'].map(activity_map)"
   ]
  },
  {
   "cell_type": "code",
   "execution_count": 13,
   "id": "1e0a3969",
   "metadata": {},
   "outputs": [
    {
     "data": {
      "text/html": [
       "<div>\n",
       "<style scoped>\n",
       "    .dataframe tbody tr th:only-of-type {\n",
       "        vertical-align: middle;\n",
       "    }\n",
       "\n",
       "    .dataframe tbody tr th {\n",
       "        vertical-align: top;\n",
       "    }\n",
       "\n",
       "    .dataframe thead th {\n",
       "        text-align: right;\n",
       "    }\n",
       "</style>\n",
       "<table border=\"1\" class=\"dataframe\">\n",
       "  <thead>\n",
       "    <tr style=\"text-align: right;\">\n",
       "      <th></th>\n",
       "      <th>subject</th>\n",
       "      <th>classname</th>\n",
       "      <th>img</th>\n",
       "      <th>activity</th>\n",
       "    </tr>\n",
       "  </thead>\n",
       "  <tbody>\n",
       "    <tr>\n",
       "      <th>0</th>\n",
       "      <td>p002</td>\n",
       "      <td>c0</td>\n",
       "      <td>img_44733.jpg</td>\n",
       "      <td>safe driving</td>\n",
       "    </tr>\n",
       "    <tr>\n",
       "      <th>1</th>\n",
       "      <td>p002</td>\n",
       "      <td>c0</td>\n",
       "      <td>img_72999.jpg</td>\n",
       "      <td>safe driving</td>\n",
       "    </tr>\n",
       "    <tr>\n",
       "      <th>2</th>\n",
       "      <td>p002</td>\n",
       "      <td>c0</td>\n",
       "      <td>img_25094.jpg</td>\n",
       "      <td>safe driving</td>\n",
       "    </tr>\n",
       "    <tr>\n",
       "      <th>3</th>\n",
       "      <td>p002</td>\n",
       "      <td>c0</td>\n",
       "      <td>img_69092.jpg</td>\n",
       "      <td>safe driving</td>\n",
       "    </tr>\n",
       "    <tr>\n",
       "      <th>4</th>\n",
       "      <td>p002</td>\n",
       "      <td>c0</td>\n",
       "      <td>img_92629.jpg</td>\n",
       "      <td>safe driving</td>\n",
       "    </tr>\n",
       "  </tbody>\n",
       "</table>\n",
       "</div>"
      ],
      "text/plain": [
       "  subject classname            img      activity\n",
       "0    p002        c0  img_44733.jpg  safe driving\n",
       "1    p002        c0  img_72999.jpg  safe driving\n",
       "2    p002        c0  img_25094.jpg  safe driving\n",
       "3    p002        c0  img_69092.jpg  safe driving\n",
       "4    p002        c0  img_92629.jpg  safe driving"
      ]
     },
     "execution_count": 13,
     "metadata": {},
     "output_type": "execute_result"
    }
   ],
   "source": [
    "csv_df.head()"
   ]
  },
  {
   "cell_type": "code",
   "execution_count": 10,
   "id": "d788caa0",
   "metadata": {},
   "outputs": [
    {
     "name": "stdout",
     "output_type": "stream",
     "text": [
      "subject      object\n",
      "classname    object\n",
      "img          object\n",
      "activity     object\n",
      "dtype: object\n"
     ]
    }
   ],
   "source": [
    "print(csv_df.dtypes)"
   ]
  },
  {
   "cell_type": "markdown",
   "id": "502eb4e8",
   "metadata": {},
   "source": [
    "The output shows that all the columns in the dataframe are of the object data type, which is pandas' generic way of representing string data. In this case, it indicates that all the data in the dataframe is text-based, rather than numerical or boolean."
   ]
  },
  {
   "cell_type": "code",
   "execution_count": 11,
   "id": "fbe21b3f",
   "metadata": {},
   "outputs": [
    {
     "data": {
      "text/plain": [
       "subject      0\n",
       "classname    0\n",
       "img          0\n",
       "activity     0\n",
       "dtype: int64"
      ]
     },
     "execution_count": 11,
     "metadata": {},
     "output_type": "execute_result"
    }
   ],
   "source": [
    "csv_df.isna().sum()"
   ]
  },
  {
   "cell_type": "markdown",
   "id": "a3a9374a",
   "metadata": {},
   "source": [
    "This output indicates that there are no missing values in the csv_df dataframe"
   ]
  },
  {
   "cell_type": "markdown",
   "id": "d688c9d6",
   "metadata": {},
   "source": [
    "The good news is that upon checking, the dataset does not contain any duplicates. However, in case duplicates were found, we would proceed to remove them in order to reduce biased or misleading results."
   ]
  },
  {
   "cell_type": "code",
   "execution_count": 12,
   "id": "daa0405c",
   "metadata": {},
   "outputs": [
    {
     "name": "stdout",
     "output_type": "stream",
     "text": [
      "Number of duplicate rows: 0\n"
     ]
    }
   ],
   "source": [
    "duplicates = csv_df.duplicated()\n",
    "print(\"Number of duplicate rows:\", duplicates.sum())"
   ]
  },
  {
   "cell_type": "markdown",
   "id": "beed95aa",
   "metadata": {},
   "source": [
    "## Exploratory Data Analysis (EDA)\n",
    "Now that we've done some basic preprocessing of the data, let's move on to exploratory data analysis (EDA) to gain a deeper understanding of the data."
   ]
  },
  {
   "cell_type": "markdown",
   "id": "28c8294c",
   "metadata": {},
   "source": [
    "### Visualize the distribution of the class labels\n",
    "First, let's take a look at the distribution of the class labels to see if there are any patterns or imbalances in the data."
   ]
  },
  {
   "cell_type": "code",
   "execution_count": 14,
   "id": "113c74d7",
   "metadata": {},
   "outputs": [
    {
     "data": {
      "text/plain": [
       "c0    2489\n",
       "c3    2346\n",
       "c4    2326\n",
       "c6    2325\n",
       "c2    2317\n",
       "c5    2312\n",
       "c1    2267\n",
       "c9    2129\n",
       "c7    2002\n",
       "c8    1911\n",
       "Name: classname, dtype: int64"
      ]
     },
     "execution_count": 14,
     "metadata": {},
     "output_type": "execute_result"
    }
   ],
   "source": [
    "csv_df[\"classname\"].value_counts()"
   ]
  },
  {
   "cell_type": "code",
   "execution_count": 15,
   "id": "bf91b22d",
   "metadata": {},
   "outputs": [
    {
     "data": {
      "image/png": "[encoded data removed]",
      "text/plain": [
       "<Figure size 640x480 with 1 Axes>"
      ]
     },
     "metadata": {},
     "output_type": "display_data"
    }
   ],
   "source": [
    "import matplotlib.pyplot as plt\n",
    "\n",
    "# get the value counts for each class\n",
    "class_counts = csv_df[\"classname\"].value_counts()\n",
    "\n",
    "# create a horizontal bar plot of the class distribution\n",
    "plt.barh(class_counts.index, class_counts.values)\n",
    "\n",
    "# set the title and labels for the plot\n",
    "plt.title(\"Class Distribution\")\n",
    "plt.xlabel(\"Frequency\")\n",
    "plt.ylabel(\"Class\")\n",
    "\n",
    "# display the plot\n",
    "plt.show()"
   ]
  },
  {
   "cell_type": "markdown",
   "id": "2909bd4c",
   "metadata": {},
   "source": [
    "From the values count and the graph, we can see that the dataset is relatively balanced, with the number of images in each class ranging from 1911 to 2489. This is a positive indication that the dataset will not be biased towards any one class during model training. Overall, this initial exploration of the dataset suggests that it is a suitable starting point for our analysis."
   ]
  },
  {
   "cell_type": "code",
   "execution_count": 41,
   "id": "450526ac",
   "metadata": {},
   "outputs": [
    {
     "name": "stdout",
     "output_type": "stream",
     "text": [
      "Class percentages:\n",
      "c0    11.099715\n",
      "c3    10.462005\n",
      "c4    10.372815\n",
      "c6    10.368355\n",
      "c2    10.332679\n",
      "c5    10.310382\n",
      "c1    10.109704\n",
      "c9     9.494292\n",
      "c7     8.927934\n",
      "c8     8.522119\n",
      "Name: classname, dtype: float64\n",
      "Standard deviation of class percentages: 0.7420068664455836\n",
      "No class imbalance detected.\n"
     ]
    }
   ],
   "source": [
    "import numpy as np\n",
    "\n",
    "# calculate the percentage of images in each class\n",
    "class_percentages = csv_df[\"classname\"].value_counts(normalize=True) * 100\n",
    "\n",
    "# print the percentage of images in each class\n",
    "print(\"Class percentages:\")\n",
    "print(class_percentages)\n",
    "\n",
    "# calculate the standard deviation of the class percentages\n",
    "std_dev = np.std(class_percentages)\n",
    "\n",
    "# print the standard deviation of the class percentages\n",
    "print(\"Standard deviation of class percentages:\", std_dev)\n",
    "\n",
    "# check if the standard deviation is greater than a certain threshold\n",
    "if std_dev > 5:\n",
    "    print(\"Warning: Class imbalance detected.\")\n",
    "else:\n",
    "    print(\"No class imbalance detected.\")\n"
   ]
  },
  {
   "cell_type": "markdown",
   "id": "2d9ad0ec",
   "metadata": {},
   "source": [
    "The results indicate that there is no significant class imbalance in the data as the percentage of samples in each class is relatively equal, with the highest and lowest percentages being 11.1% and 8.5% respectively. This is confirmed by the standard deviation of the class percentages, which is relatively low at 0.742, further indicating that there is no significant imbalance."
   ]
  },
  {
   "cell_type": "code",
   "execution_count": 42,
   "id": "0ce02995",
   "metadata": {},
   "outputs": [
    {
     "data": {
      "text/html": [
       "<div>\n",
       "<style scoped>\n",
       "    .dataframe tbody tr th:only-of-type {\n",
       "        vertical-align: middle;\n",
       "    }\n",
       "\n",
       "    .dataframe tbody tr th {\n",
       "        vertical-align: top;\n",
       "    }\n",
       "\n",
       "    .dataframe thead th {\n",
       "        text-align: right;\n",
       "    }\n",
       "</style>\n",
       "<table border=\"1\" class=\"dataframe\">\n",
       "  <thead>\n",
       "    <tr style=\"text-align: right;\">\n",
       "      <th></th>\n",
       "      <th>subject</th>\n",
       "      <th>classname</th>\n",
       "      <th>img</th>\n",
       "    </tr>\n",
       "  </thead>\n",
       "  <tbody>\n",
       "    <tr>\n",
       "      <th>count</th>\n",
       "      <td>22424</td>\n",
       "      <td>22424</td>\n",
       "      <td>22424</td>\n",
       "    </tr>\n",
       "    <tr>\n",
       "      <th>unique</th>\n",
       "      <td>26</td>\n",
       "      <td>10</td>\n",
       "      <td>22424</td>\n",
       "    </tr>\n",
       "    <tr>\n",
       "      <th>top</th>\n",
       "      <td>p021</td>\n",
       "      <td>c0</td>\n",
       "      <td>img_44733.jpg</td>\n",
       "    </tr>\n",
       "    <tr>\n",
       "      <th>freq</th>\n",
       "      <td>1237</td>\n",
       "      <td>2489</td>\n",
       "      <td>1</td>\n",
       "    </tr>\n",
       "  </tbody>\n",
       "</table>\n",
       "</div>"
      ],
      "text/plain": [
       "       subject classname            img\n",
       "count    22424     22424          22424\n",
       "unique      26        10          22424\n",
       "top       p021        c0  img_44733.jpg\n",
       "freq      1237      2489              1"
      ]
     },
     "execution_count": 42,
     "metadata": {},
     "output_type": "execute_result"
    }
   ],
   "source": [
    "csv_df.describe()"
   ]
  },
  {
   "cell_type": "markdown",
   "id": "afe2ce2c",
   "metadata": {},
   "source": [
    "From the results, we can see that the subject column has 26 unique values, the classname column has 10 unique values, and the img column has 22,424 unique values. The most common value for subject is p021, the most common value for classname is c0, and each value in the img column is unique."
   ]
  },
  {
   "cell_type": "markdown",
   "id": "fa01aa25",
   "metadata": {},
   "source": [
    "### Check for Subject imbalance\n",
    "We already know that the class distributim is relatively balance. Now, we'll check for subject imbalance to ensure that each class has roughly the same number of samples. If there is a significant imbalance, we may need to consider using techniques like oversampling or undersampling to address this issue."
   ]
  },
  {
   "cell_type": "markdown",
   "id": "22bf3f1f",
   "metadata": {},
   "source": [
    "To explore this further let's use some visualization to help us."
   ]
  },
  {
   "cell_type": "code",
   "execution_count": 68,
   "id": "e54ede23",
   "metadata": {},
   "outputs": [
    {
     "data": {
      "image/png": "[encoded data removed]",
      "text/plain": [
       "<Figure size 1200x600 with 1 Axes>"
      ]
     },
     "metadata": {},
     "output_type": "display_data"
    }
   ],
   "source": [
    "import seaborn as sns\n",
    "import matplotlib.pyplot as plt\n",
    "\n",
    "# Set the figure size\n",
    "plt.figure(figsize=(12, 6))\n",
    "\n",
    "# Create the scatter plot\n",
    "sns.scatterplot(data=csv_df, x='subject', y='classname')\n",
    "\n",
    "# Rotate the x-axis labels\n",
    "plt.xticks(rotation=90)\n",
    "\n",
    "# Show the plot\n",
    "plt.show()"
   ]
  },
  {
   "cell_type": "code",
   "execution_count": 61,
   "id": "266c83b3",
   "metadata": {},
   "outputs": [
    {
     "data": {
      "text/plain": [
       "p021    1237\n",
       "p022    1233\n",
       "p024    1226\n",
       "p026    1196\n",
       "p016    1078\n",
       "p066    1034\n",
       "p049    1011\n",
       "p051     920\n",
       "p014     876\n",
       "p015     875\n",
       "p035     848\n",
       "p047     835\n",
       "p081     823\n",
       "p012     823\n",
       "p064     820\n",
       "p075     814\n",
       "p061     809\n",
       "p056     794\n",
       "p050     790\n",
       "p052     740\n",
       "p002     725\n",
       "p045     724\n",
       "p039     651\n",
       "p041     605\n",
       "p042     591\n",
       "p072     346\n",
       "Name: subject, dtype: int64"
      ]
     },
     "execution_count": 61,
     "metadata": {},
     "output_type": "execute_result"
    }
   ],
   "source": [
    "csv_df['subject'].value_counts()"
   ]
  },
  {
   "cell_type": "code",
   "execution_count": 60,
   "id": "e20c3a02",
   "metadata": {},
   "outputs": [
    {
     "data": {
      "image/png": "[encoded data removed]",
      "text/plain": [
       "<Figure size 1200x600 with 1 Axes>"
      ]
     },
     "metadata": {},
     "output_type": "display_data"
    }
   ],
   "source": [
    "# Set the style and context of the plot\n",
    "sns.set_style('whitegrid')\n",
    "sns.set_context('paper', font_scale=1.4)\n",
    "\n",
    "# Create the countplot\n",
    "plt.figure(figsize=(12,6))\n",
    "ax = sns.countplot(x='subject', data=csv_df, palette='Blues_d')\n",
    "\n",
    "# Set the title and axis labels\n",
    "ax.set_title('Distribution of Subjects in the Dataset', fontsize=18)\n",
    "ax.set_xlabel('Subject', fontsize=14)\n",
    "ax.set_ylabel('Count', fontsize=14)\n",
    "\n",
    "# Rotate the x-axis labels for better readability\n",
    "plt.xticks(rotation=90)\n",
    "\n",
    "# Show the plot\n",
    "plt.show()"
   ]
  },
  {
   "cell_type": "markdown",
   "id": "163eb175",
   "metadata": {},
   "source": [
    "We can see that the distribution of subjects is not completely balanced, with some subjects having more occurrences than others. However, the difference in the number of occurrences is not significant, with the most common subject appearing only 1237 times out of a total of 22424 rows. Therefore, we can consider the subject distribution to be relatively balanced. \n",
    "\n",
    "The scatter plot of subject vs. classname shows a straight line plot for each class, indicating that there is no correlation between the two variables. The count plot of subjects shows that subject p021 is the most frequent subject, appearing 1237 times, while subject p072 is the least frequent subject, appearing only 346 times. Overall, the subject distribution is relatively balanced and should not significantly affect our modeling."
   ]
  },
  {
   "cell_type": "markdown",
   "id": "4f552a2d",
   "metadata": {},
   "source": [
    "This is good, but let's further study these two variables. One possible statistical analysis that can be performed on it is to compare the distribution of the different classess across the subjects. This also can help identify any potential relationships or patterns between the activities and the subjects, which can be useful in predicting future claims and identifying fraudulent claims.\n",
    "\n",
    "To do this, we can use a contingency table and perform a chi-square test of independence. The contingency table will have the subjects as the rows and the different classes as the columns. We can then calculate the expected values for each cell based on the row and column totals, and compare these with the observed values using the chi-square test."
   ]
  },
  {
   "cell_type": "markdown",
   "id": "d10f571a",
   "metadata": {},
   "source": [
    "To perform a chi-square test of independence, we first need to create a contingency table that shows the relationship between the subjects and the different activities/classes. We can use the crosstab function from the pandas library to create this table."
   ]
  },
  {
   "cell_type": "code",
   "execution_count": 22,
   "id": "b800ec14",
   "metadata": {},
   "outputs": [
    {
     "name": "stdout",
     "output_type": "stream",
     "text": [
      "classname   c0   c1   c2   c3   c4   c5   c6   c7   c8   c9\n",
      "subject                                                    \n",
      "p002        76   74   86   79   84   76   83   72   44   51\n",
      "p012        84   95   91   89   97   96   75   72   62   62\n",
      "p014       100  103  100  100  103  102  101   77   38   52\n",
      "p015        79   85   88   94  101  101   99   81   86   61\n",
      "p016       111  102  101  128  104  104  108  101   99  120\n",
      "p021       135  131  127  128  132  130  126   98   99  131\n",
      "p022       129  129  128  129  130  130  131   98   98  131\n",
      "p024       130  129  128  130  129  131  129  101   99  120\n",
      "p026       130  129  130  131  126  130  128   97   97   98\n",
      "p035        94   81   88   89   89   89   94   87   56   81\n",
      "p039        65   63   70   65   62   64   63   64   70   65\n",
      "p041        60   64   60   60   60   61   61   61   59   59\n",
      "p042        59   59   60   59   58   59   59   59   59   60\n",
      "p045        75   75   76   75   75   76   71   67   66   68\n",
      "p047        80   91   81   86   82   87   81   82   82   83\n",
      "p049        84   85  119  110  109  116  119   74   79  116\n",
      "p050       123   45   52   98   83   91   82   81   65   70\n",
      "p051       182   81   81   83   81   83   95   80   62   92\n",
      "p052        72   71   84   75   72   72   77   71   71   75\n",
      "p056        81   80   80   78   82   81   80   74   83   75\n",
      "p061        84   81   81   83   79   81   80   79   81   80\n",
      "p064        83   81   83   84   86   85   82   79   81   76\n",
      "p066       129  100  106  101  102  101  105   86  114   90\n",
      "p072        63   62   36   31   34    6   35    2   21   56\n",
      "p075        81   81   85   79   89   79   82   82   79   77\n",
      "p081       100   90   96   82   77   81   79   77   61   80\n"
     ]
    }
   ],
   "source": [
    "import pandas as pd\n",
    "\n",
    "# Create the contingency table\n",
    "cont_table = pd.crosstab(index=csv_df['subject'], columns=csv_df['classname'])\n",
    "\n",
    "# Print the contingency table\n",
    "print(cont_table)"
   ]
  },
  {
   "cell_type": "markdown",
   "id": "d383cfdc",
   "metadata": {},
   "source": [
    "The null hypothesis is that there is no significant relationship between the subject and the type of activity being performed. Our hypothesisis that there's a significant association between the two variables, indicating that the distribution of activity types is different across subjects."
   ]
  },
  {
   "cell_type": "code",
   "execution_count": 23,
   "id": "033fb11a",
   "metadata": {},
   "outputs": [
    {
     "name": "stdout",
     "output_type": "stream",
     "text": [
      "Test Statistic: 420.1983751587359\n",
      "p-value: 5.738911934189186e-14\n"
     ]
    }
   ],
   "source": [
    "from scipy.stats import chi2_contingency\n",
    "\n",
    "# Perform the chi-square test of independence\n",
    "chi2, pval, dof, expected = chi2_contingency(cont_table)\n",
    "\n",
    "# Print the test statistic and p-value\n",
    "print('Test Statistic:', chi2)\n",
    "print('p-value:', pval)"
   ]
  },
  {
   "cell_type": "markdown",
   "id": "530ee921",
   "metadata": {},
   "source": [
    "The low p-value obtained from the chi-square test, which supports our position, indicates that there is a significant relationship between the subject and the type of activity being performed. This suggests that there may be certain subjects who are more likely to engage in certain types of distracting activities while driving, which could be a valuable insight for State Farm in improving the claims process and detecting potentially fraudulent claims. \n",
    "\n",
    "However, it's important to note that this relationship is specific to the dataset used in this analysis, and further research may be needed to confirm these findings. Additionally, while there may be a significant association between the variables, it does not necessarily mean that there is a strong or causal relationship between them."
   ]
  },
  {
   "cell_type": "code",
   "execution_count": null,
   "id": "78678d90",
   "metadata": {},
   "outputs": [],
   "source": []
  }
 ],
 "metadata": {
  "kernelspec": {
   "display_name": "Capstone Project Env",
   "language": "python",
   "name": "capstone_env"
  },
  "language_info": {
   "codemirror_mode": {
    "name": "ipython",
    "version": 3
   },
   "file_extension": ".py",
   "mimetype": "text/x-python",
   "name": "python",
   "nbconvert_exporter": "python",
   "pygments_lexer": "ipython3",
   "version": "3.8.16"
  }
 },
 "nbformat": 4,
 "nbformat_minor": 5
}
